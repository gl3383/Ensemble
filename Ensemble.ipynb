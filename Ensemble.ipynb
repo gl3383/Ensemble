{
 "cells": [
  {
   "cell_type": "markdown",
   "metadata": {
    "collapsed": true
   },
   "source": [
    "### Ensemble- ISLR -Exercise 8.4"
   ]
  },
  {
   "cell_type": "markdown",
   "metadata": {},
   "source": [
    "#### Problem 8.4.1\n",
    "Draw an example (of your own invention) of a partition of twodimensional feature space that could result from recursive binary\n",
    "splitting. Your example should contain at least six regions. Draw a decision tree corresponding to this partition. Be sure to label all aspects of your figures, including the regions R1,R2, . . ., the cutpoints t1, t2, . . ., and so forth."
   ]
  },
  {
   "cell_type": "code",
   "execution_count": 2,
   "metadata": {},
   "outputs": [
    {
     "data": {
      "image/png": "[encoded data removed]",
      "text/plain": [
       "plot without title"
      ]
     },
     "metadata": {},
     "output_type": "display_data"
    }
   ],
   "source": [
    "par(xpd = NA)\n",
    "plot(NA, NA, type = \"n\", xlim = c(0,100), ylim = c(0,100), xlab = \"X\", ylab = \"Y\")\n",
    "\n",
    "# t1: x = 50; (50, 0) (50, 100)\n",
    "lines(x = c(50,50), y = c(0,100))\n",
    "text(x = 50, y = 105, labels = c(\"t1\"), col = \"red\")\n",
    "\n",
    "# t2: y = 80; (0, 80) (50, 80)\n",
    "lines(x = c(0,50), y = c(80,80))\n",
    "text(x = -5, y = 80, labels = c(\"t2\"), col = \"red\")\n",
    "\n",
    "# t3: x = 80; (80,0) (80, 100)\n",
    "lines(x = c(80,80), y = c(0,100))\n",
    "text(x = 80, y = 105, labels = c(\"t3\"), col = \"red\")\n",
    "\n",
    "# t4: x = 25; (25,0) (25, 80)\n",
    "lines(x = c(25,25), y = c(0,80))\n",
    "text(x = 25, y = 85, labels = c(\"t4\"), col = \"red\")\n",
    "\n",
    "# t5: y=30; (80,30) (100,30)\n",
    "lines(x = c(80,100), y = c(30,30))\n",
    "text(x = 78, y = 30, labels = c(\"t5\"), col = \"red\")\n",
    "\n",
    "\n",
    "text(x = (50+80)/2, y = 50, labels = c(\"R1\"))\n",
    "text(x = 25, y = (100+80)/2, labels = c(\"R2\"))\n",
    "text(x = (80+100)/2, y = (100+30)/2, labels = c(\"R3\"))\n",
    "text(x = (80+100)/2, y = 30/2, labels = c(\"R4\"))\n",
    "text(x = 37, y = 80/2, labels = c(\"R5\"))\n",
    "text(x = 13, y = 80/2, labels = c(\"R6\"))\n"
   ]
  },
  {
   "cell_type": "markdown",
   "metadata": {},
   "source": [
    "#### Problem 8.4.2\n",
    "It is mentioned in Section 8.2.3 that boosting using depth-one trees (or stumps) leads to an additive model.Explain why this is the case. You can begin with (8.12) in Algorithm 8.2."
   ]
  },
  {
   "cell_type": "markdown",
   "metadata": {},
   "source": [
    "Let f^(x) = 0 and ri = yi  for all values of i.\n",
    "\n",
    "f^1(x) = c1I(x1<t1) + c’1 = 1/λ f1(x1)\n",
    "  \n",
    "Hence f^(x) = λ f^1(x)\n",
    "\t\n",
    "ri  = yi - λ f^1(xi)\n",
    "\n",
    "f^2(x) = c2I(x2<t2) + c’2 = 1/λ f2(x2)\n",
    "\n",
    "Hence f^(x) = λ f^1(x) + λ f^2(x)\n",
    "\n",
    "ri  = yi - λ f^1(xi) - λ f^2(xi)\n",
    "\n",
    "Therefore  f^(x) = ∑^p (subscript)j=1  fj(xj)\n"
   ]
  },
  {
   "cell_type": "markdown",
   "metadata": {},
   "source": [
    "#### Problem 8.4.5\n",
    "Suppose we produce ten bootstrapped samples from a data set containing red and green classes. We then apply a classification tree to each bootstrapped sample and, for a specific value of X, produce 10 estimates of P(Class is Red|X):\n",
    "0.1, 0.15, 0.2, 0.2, 0.55, 0.6, 0.6, 0.65, 0.7, and 0.75.\n",
    "There are two common ways to combine these results together into a single class prediction. One is the majority vote approach discussed in this chapter. The second approach is to classify based on the average probability. In this example, what is the final classification under each of these two approaches?"
   ]
  },
  {
   "cell_type": "code",
   "execution_count": 4,
   "metadata": {},
   "outputs": [
    {
     "data": {
      "text/html": [
       "TRUE"
      ],
      "text/latex": [
       "TRUE"
      ],
      "text/markdown": [
       "TRUE"
      ],
      "text/plain": [
       "[1] TRUE"
      ]
     },
     "metadata": {},
     "output_type": "display_data"
    }
   ],
   "source": [
    "# Majority approach\n",
    "p = c(0.1, 0.15, 0.2, 0.2, 0.55, 0.6, 0.6, 0.65, 0.7, 0.75)\n",
    "sum(p >= 0.5) > sum(p < 0.5)"
   ]
  },
  {
   "cell_type": "markdown",
   "metadata": {},
   "source": [
    "The number of red predictions is greater than the number of green predictions based on a 50% threshold, thus RED."
   ]
  },
  {
   "cell_type": "code",
   "execution_count": 5,
   "metadata": {},
   "outputs": [
    {
     "data": {
      "text/html": [
       "0.45"
      ],
      "text/latex": [
       "0.45"
      ],
      "text/markdown": [
       "0.45"
      ],
      "text/plain": [
       "[1] 0.45"
      ]
     },
     "metadata": {},
     "output_type": "display_data"
    }
   ],
   "source": [
    "# Average approach\n",
    "mean(p)"
   ]
  },
  {
   "cell_type": "markdown",
   "metadata": {},
   "source": [
    "The average of the probabilities is less than the 50% threshold, thus GREEN."
   ]
  },
  {
   "cell_type": "markdown",
   "metadata": {},
   "source": [
    "#### Problem 8.4.12\n",
    "Apply boosting, bagging, and random forests to a data set of your choice. Be sure to ﬁt the models on a training set and to evaluate their performance on a test set. How accurate are the results compared to simple methods like linear or logistic regression? Which of these approaches yields the best performance?"
   ]
  },
  {
   "cell_type": "code",
   "execution_count": 7,
   "metadata": {
    "collapsed": true
   },
   "outputs": [],
   "source": [
    "HR = read.csv(file = 'C:/Users/Thiya/Desktop/Wayne/Fall 2017/Analytics course/Project/HR.csv', header = T, sep = ',')\n",
    "sample_size <- floor(0.75 * nrow(HR))\n",
    "training_data <- sample(seq_len(nrow(HR)), size = sample_size)\n",
    "train <- HR[training_data, ]\n",
    "test <- HR[-training_data, ]\n",
    "left_hr <- HR$left[-training_data]"
   ]
  },
  {
   "cell_type": "code",
   "execution_count": 10,
   "metadata": {},
   "outputs": [
    {
     "data": {
      "text/plain": [
       "         left_hr\n",
       "pred.glm2    0    1\n",
       "     Down 2668  550\n",
       "     Up    210  322"
      ]
     },
     "metadata": {},
     "output_type": "display_data"
    }
   ],
   "source": [
    "#Logistic regression\n",
    "fit.model2 <- glm(left ~ satisfaction_level + last_evaluation + number_project + average_montly_hours + time_spend_company + Work_accident + promotion_last_5years + sales + salary, data = HR, family = binomial, subset = training_data)\n",
    "probs2 <- predict(fit.model2, test, type = \"response\")\n",
    "pred.glm2 <- rep(\"Down\", length(probs2))\n",
    "pred.glm2[probs2 > 0.5] <- \"Up\"\n",
    "table(pred.glm2, left_hr)"
   ]
  },
  {
   "cell_type": "markdown",
   "metadata": {},
   "source": [
    "True Prediction rate is (2668 + 322) / (2668+550+210+322) = 0.7973 or 80% .In other words, 20% is the training error."
   ]
  },
  {
   "cell_type": "code",
   "execution_count": 14,
   "metadata": {},
   "outputs": [
    {
     "name": "stderr",
     "output_type": "stream",
     "text": [
      "Warning message:\n",
      "\"package 'gbm' was built under R version 3.4.4\"Loading required package: survival\n",
      "Loading required package: lattice\n",
      "Loading required package: splines\n",
      "Loading required package: parallel\n",
      "Loaded gbm 2.1.3\n"
     ]
    },
    {
     "data": {
      "text/plain": [
       "         left_hr\n",
       "pred.gbm2    0    1\n",
       "     Down 2854  651\n",
       "     Up     24  221"
      ]
     },
     "metadata": {},
     "output_type": "display_data"
    }
   ],
   "source": [
    "#Boosting\n",
    "library(gbm)\n",
    "boost.fit <- gbm(left ~ ., data = train, distribution = \"bernoulli\", n.trees = 5000)\n",
    "boost.probs <- predict(boost.fit, newdata = test, n.trees = 5000)\n",
    "pred.gbm2 <- rep(\"Down\", length(boost.probs))\n",
    "pred.gbm2[boost.probs > 0.5] <- \"Up\"\n",
    "table(pred.gbm2, left_hr)\n"
   ]
  },
  {
   "cell_type": "markdown",
   "metadata": {},
   "source": [
    "True Prediction rate is (2854 + 221) / (2854+651+24+221) = 0.82 or 82% .In other words, 18% is the training error."
   ]
  },
  {
   "cell_type": "code",
   "execution_count": 16,
   "metadata": {},
   "outputs": [
    {
     "data": {
      "text/plain": [
       "       left_hr\n",
       "pred.mt    0    1\n",
       "   Down 2842   78\n",
       "   Up     36  794"
      ]
     },
     "metadata": {},
     "output_type": "display_data"
    }
   ],
   "source": [
    "#Bagging\n",
    "library(ipred)\n",
    "mt <- bagging(left ~., data=train, coob=TRUE)\n",
    "mt_probs <- predict(mt, newdata = test)\n",
    "pred.mt <- rep(\"Down\", length(mt_probs))\n",
    "pred.mt[mt_probs > 0.5] <- \"Up\"\n",
    "table(pred.mt, left_hr)"
   ]
  },
  {
   "cell_type": "markdown",
   "metadata": {},
   "source": [
    "True Prediction rate is (2842 + 794) / (2842+78+36+794) = 0.9696 or 96% .In other words, 4% is the training error."
   ]
  },
  {
   "cell_type": "code",
   "execution_count": 3,
   "metadata": {},
   "outputs": [
    {
     "name": "stderr",
     "output_type": "stream",
     "text": [
      "Warning message:\n",
      "\"package 'randomForest' was built under R version 3.4.4\"randomForest 4.6-14\n",
      "Type rfNews() to see new features/changes/bug fixes.\n"
     ]
    }
   ],
   "source": [
    "#Randomforest\n",
    "library(randomForest)\n"
   ]
  },
  {
   "cell_type": "code",
   "execution_count": 5,
   "metadata": {},
   "outputs": [
    {
     "name": "stderr",
     "output_type": "stream",
     "text": [
      "Warning message in randomForest.default(m, y, ...):\n",
      "\"The response has five or fewer unique values.  Are you sure you want to do regression?\""
     ]
    }
   ],
   "source": [
    "rf_fit <- randomForest(left ~ . , data = train, mtry = 3)"
   ]
  },
  {
   "cell_type": "code",
   "execution_count": 8,
   "metadata": {},
   "outputs": [
    {
     "data": {
      "text/plain": [
       "       left_hr\n",
       "pred.rf    0    1\n",
       "   Down 2833   25\n",
       "   Up      5  887"
      ]
     },
     "metadata": {},
     "output_type": "display_data"
    }
   ],
   "source": [
    "rf_probs <- predict(rf_fit, newdata = test)\n",
    "pred.rf <- rep(\"Down\", length(rf_probs))\n",
    "pred.rf[rf_probs > 0.5] <- \"Up\"\n",
    "table(pred.rf, left_hr)"
   ]
  },
  {
   "cell_type": "markdown",
   "metadata": {},
   "source": [
    "True Prediction rate is (2833 + 887) / (2833+25+5+887) = 0.992 or 99% .In other words, 1% is the training error."
   ]
  },
  {
   "cell_type": "markdown",
   "metadata": {},
   "source": [
    "When compared to logistic regression bagging, boosting and randomforest methods are better in accuracy and randomforest with an accuracy of 99% gives the best performance among all these methods."
   ]
  }
 ],
 "metadata": {
  "kernelspec": {
   "display_name": "R",
   "language": "R",
   "name": "ir"
  },
  "language_info": {
   "codemirror_mode": "r",
   "file_extension": ".r",
   "mimetype": "text/x-r-source",
   "name": "R",
   "pygments_lexer": "r",
   "version": "3.4.1"
  }
 },
 "nbformat": 4,
 "nbformat_minor": 2
}
